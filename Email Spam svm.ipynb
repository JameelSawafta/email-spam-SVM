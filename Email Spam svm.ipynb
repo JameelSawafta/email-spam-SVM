{
 "cells": [
  {
   "cell_type": "code",
   "execution_count": 27,
   "id": "73fc0d9d",
   "metadata": {},
   "outputs": [],
   "source": [
    "import numpy as np\n",
    "import pandas as pd\n",
    "import matplotlib.pyplot as plt\n",
    "import seaborn as sns\n",
    "import nltk \n",
    "from nltk.corpus import stopwords\n",
    "import string"
   ]
  },
  {
   "cell_type": "code",
   "execution_count": 2,
   "id": "d4bc2ff1",
   "metadata": {},
   "outputs": [],
   "source": [
    "email_df = pd.read_csv('data/emailSpam.csv')"
   ]
  },
  {
   "cell_type": "code",
   "execution_count": 3,
   "id": "c4df7dc1",
   "metadata": {},
   "outputs": [
    {
     "data": {
      "text/html": [
       "<div>\n",
       "<style scoped>\n",
       "    .dataframe tbody tr th:only-of-type {\n",
       "        vertical-align: middle;\n",
       "    }\n",
       "\n",
       "    .dataframe tbody tr th {\n",
       "        vertical-align: top;\n",
       "    }\n",
       "\n",
       "    .dataframe thead th {\n",
       "        text-align: right;\n",
       "    }\n",
       "</style>\n",
       "<table border=\"1\" class=\"dataframe\">\n",
       "  <thead>\n",
       "    <tr style=\"text-align: right;\">\n",
       "      <th></th>\n",
       "      <th>Category</th>\n",
       "      <th>Message</th>\n",
       "    </tr>\n",
       "  </thead>\n",
       "  <tbody>\n",
       "    <tr>\n",
       "      <th>0</th>\n",
       "      <td>0</td>\n",
       "      <td>Go until jurong point, crazy.. Available only ...</td>\n",
       "    </tr>\n",
       "    <tr>\n",
       "      <th>1</th>\n",
       "      <td>0</td>\n",
       "      <td>Ok lar... Joking wif u oni...</td>\n",
       "    </tr>\n",
       "    <tr>\n",
       "      <th>2</th>\n",
       "      <td>1</td>\n",
       "      <td>Free entry in 2 a wkly comp to win FA Cup fina...</td>\n",
       "    </tr>\n",
       "    <tr>\n",
       "      <th>3</th>\n",
       "      <td>0</td>\n",
       "      <td>U dun say so early hor... U c already then say...</td>\n",
       "    </tr>\n",
       "    <tr>\n",
       "      <th>4</th>\n",
       "      <td>0</td>\n",
       "      <td>Nah I don't think he goes to usf, he lives aro...</td>\n",
       "    </tr>\n",
       "  </tbody>\n",
       "</table>\n",
       "</div>"
      ],
      "text/plain": [
       "   Category                                            Message\n",
       "0         0  Go until jurong point, crazy.. Available only ...\n",
       "1         0                      Ok lar... Joking wif u oni...\n",
       "2         1  Free entry in 2 a wkly comp to win FA Cup fina...\n",
       "3         0  U dun say so early hor... U c already then say...\n",
       "4         0  Nah I don't think he goes to usf, he lives aro..."
      ]
     },
     "execution_count": 3,
     "metadata": {},
     "output_type": "execute_result"
    }
   ],
   "source": [
    "email_df.head()"
   ]
  },
  {
   "cell_type": "code",
   "execution_count": 4,
   "id": "5d9a7956",
   "metadata": {},
   "outputs": [
    {
     "data": {
      "text/plain": [
       "(5572, 2)"
      ]
     },
     "execution_count": 4,
     "metadata": {},
     "output_type": "execute_result"
    }
   ],
   "source": [
    "email_df.shape"
   ]
  },
  {
   "cell_type": "code",
   "execution_count": 5,
   "id": "7c242a18",
   "metadata": {},
   "outputs": [],
   "source": [
    "email_df.drop_duplicates(inplace=True)"
   ]
  },
  {
   "cell_type": "code",
   "execution_count": 6,
   "id": "118c28b4",
   "metadata": {},
   "outputs": [
    {
     "data": {
      "text/plain": [
       "(5157, 2)"
      ]
     },
     "execution_count": 6,
     "metadata": {},
     "output_type": "execute_result"
    }
   ],
   "source": [
    "email_df.shape"
   ]
  },
  {
   "cell_type": "code",
   "execution_count": 7,
   "id": "5d9c040f",
   "metadata": {},
   "outputs": [
    {
     "name": "stderr",
     "output_type": "stream",
     "text": [
      "[nltk_data] Downloading package stopwords to\n",
      "[nltk_data]     C:\\Users\\NEPTUNE\\AppData\\Roaming\\nltk_data...\n",
      "[nltk_data]   Package stopwords is already up-to-date!\n"
     ]
    },
    {
     "data": {
      "text/plain": [
       "True"
      ]
     },
     "execution_count": 7,
     "metadata": {},
     "output_type": "execute_result"
    }
   ],
   "source": [
    "nltk.download('stopwords')"
   ]
  },
  {
   "cell_type": "code",
   "execution_count": 8,
   "id": "2a6cf3ff",
   "metadata": {},
   "outputs": [],
   "source": [
    "def procrss_text(text):\n",
    "    # 1 remove punctuation \n",
    "    nopunc = [char for char in text if char not in string.punctuation]\n",
    "    nopunc = ''.join(nopunc)\n",
    "    \n",
    "    # 2 remove stopwords\n",
    "    clean_word = [word for word in nopunc.split() if word.lower() not in stopwords.words('english')]\n",
    "    \n",
    "    return clean_word"
   ]
  },
  {
   "cell_type": "code",
   "execution_count": 9,
   "id": "a5bec459",
   "metadata": {},
   "outputs": [
    {
     "data": {
      "text/plain": [
       "0    [Go, jurong, point, crazy, Available, bugis, n...\n",
       "1                       [Ok, lar, Joking, wif, u, oni]\n",
       "2    [Free, entry, 2, wkly, comp, win, FA, Cup, fin...\n",
       "3        [U, dun, say, early, hor, U, c, already, say]\n",
       "4    [Nah, dont, think, goes, usf, lives, around, t...\n",
       "Name: Message, dtype: object"
      ]
     },
     "execution_count": 9,
     "metadata": {},
     "output_type": "execute_result"
    }
   ],
   "source": [
    "email_df['Message'].head().apply(procrss_text)"
   ]
  },
  {
   "cell_type": "code",
   "execution_count": 10,
   "id": "9ab34e19",
   "metadata": {},
   "outputs": [],
   "source": [
    "# convert a collection of text to a matrix of token counts\n",
    "from sklearn.feature_extraction.text import CountVectorizer\n",
    "messages_bow = CountVectorizer(analyzer=procrss_text).fit_transform(email_df['Message'])"
   ]
  },
  {
   "cell_type": "code",
   "execution_count": 11,
   "id": "44a98f00",
   "metadata": {},
   "outputs": [],
   "source": [
    "# split data to 80% training and 20% testing\n",
    "from sklearn.model_selection import train_test_split\n",
    "x_train,x_test,y_train,y_test = train_test_split(messages_bow,email_df['Category'],test_size=0.20,random_state=0)"
   ]
  },
  {
   "cell_type": "code",
   "execution_count": 12,
   "id": "f540d52d",
   "metadata": {},
   "outputs": [
    {
     "data": {
      "text/plain": [
       "(5157, 11422)"
      ]
     },
     "execution_count": 12,
     "metadata": {},
     "output_type": "execute_result"
    }
   ],
   "source": [
    "messages_bow.shape"
   ]
  },
  {
   "cell_type": "code",
   "execution_count": 15,
   "id": "e8d76013",
   "metadata": {},
   "outputs": [],
   "source": [
    "from sklearn import svm"
   ]
  },
  {
   "cell_type": "code",
   "execution_count": 23,
   "id": "27134bf1",
   "metadata": {},
   "outputs": [],
   "source": [
    "classifier = svm.SVC().fit(x_train,y_train)"
   ]
  },
  {
   "cell_type": "code",
   "execution_count": 24,
   "id": "c94a41cd",
   "metadata": {},
   "outputs": [
    {
     "name": "stdout",
     "output_type": "stream",
     "text": [
      "              precision    recall  f1-score   support\n",
      "\n",
      "           0       0.99      1.00      1.00      3619\n",
      "           1       1.00      0.95      0.98       506\n",
      "\n",
      "    accuracy                           0.99      4125\n",
      "   macro avg       1.00      0.98      0.99      4125\n",
      "weighted avg       0.99      0.99      0.99      4125\n",
      "\n",
      "\n",
      "[[3619    0]\n",
      " [  23  483]]\n",
      "\n",
      "0.9944242424242424\n"
     ]
    }
   ],
   "source": [
    "from sklearn.metrics import classification_report , confusion_matrix , accuracy_score\n",
    "pred = classifier.predict(x_train)\n",
    "print(classification_report(y_train,pred))\n",
    "print()\n",
    "print(confusion_matrix(y_train,pred))\n",
    "print()\n",
    "print(accuracy_score(y_train,pred))"
   ]
  },
  {
   "cell_type": "code",
   "execution_count": 25,
   "id": "23145103",
   "metadata": {},
   "outputs": [
    {
     "name": "stdout",
     "output_type": "stream",
     "text": [
      "              precision    recall  f1-score   support\n",
      "\n",
      "           0       0.95      1.00      0.98       897\n",
      "           1       1.00      0.67      0.81       135\n",
      "\n",
      "    accuracy                           0.96      1032\n",
      "   macro avg       0.98      0.84      0.89      1032\n",
      "weighted avg       0.96      0.96      0.95      1032\n",
      "\n",
      "\n",
      "[[897   0]\n",
      " [ 44  91]]\n",
      "\n",
      "0.9573643410852714\n"
     ]
    }
   ],
   "source": [
    "from sklearn.metrics import classification_report , confusion_matrix , accuracy_score\n",
    "pred = classifier.predict(x_test)\n",
    "print(classification_report(y_test,pred))\n",
    "print()\n",
    "print(confusion_matrix(y_test,pred))\n",
    "print()\n",
    "print(accuracy_score(y_test,pred))"
   ]
  },
  {
   "cell_type": "code",
   "execution_count": 29,
   "id": "8cd7fd90",
   "metadata": {},
   "outputs": [
    {
     "data": {
      "image/png": "[encoded data removed]",
      "text/plain": [
       "<Figure size 500x500 with 1 Axes>"
      ]
     },
     "metadata": {},
     "output_type": "display_data"
    }
   ],
   "source": [
    "conf_mat = confusion_matrix(y_test, pred)\n",
    "fig, ax = plt.subplots(figsize=(5,5))\n",
    "sns.heatmap(conf_mat, annot=True, fmt='d', cmap=plt.cm.Blues, cbar=False)\n",
    "plt.xlabel('Predicted Label')\n",
    "plt.ylabel('True Label')\n",
    "plt.show()"
   ]
  },
  {
   "cell_type": "code",
   "execution_count": 30,
   "id": "b5806c85",
   "metadata": {},
   "outputs": [],
   "source": [
    "classifier = svm.SVC(kernel='linear').fit(x_train,y_train)"
   ]
  },
  {
   "cell_type": "code",
   "execution_count": 31,
   "id": "3d903086",
   "metadata": {},
   "outputs": [
    {
     "name": "stdout",
     "output_type": "stream",
     "text": [
      "              precision    recall  f1-score   support\n",
      "\n",
      "           0       1.00      1.00      1.00      3619\n",
      "           1       1.00      1.00      1.00       506\n",
      "\n",
      "    accuracy                           1.00      4125\n",
      "   macro avg       1.00      1.00      1.00      4125\n",
      "weighted avg       1.00      1.00      1.00      4125\n",
      "\n",
      "\n",
      "[[3619    0]\n",
      " [   0  506]]\n",
      "\n",
      "1.0\n"
     ]
    }
   ],
   "source": [
    "from sklearn.metrics import classification_report , confusion_matrix , accuracy_score\n",
    "pred = classifier.predict(x_train)\n",
    "print(classification_report(y_train,pred))\n",
    "print()\n",
    "print(confusion_matrix(y_train,pred))\n",
    "print()\n",
    "print(accuracy_score(y_train,pred))"
   ]
  },
  {
   "cell_type": "code",
   "execution_count": 32,
   "id": "3125f98b",
   "metadata": {},
   "outputs": [
    {
     "name": "stdout",
     "output_type": "stream",
     "text": [
      "              precision    recall  f1-score   support\n",
      "\n",
      "           0       0.97      1.00      0.99       897\n",
      "           1       1.00      0.82      0.90       135\n",
      "\n",
      "    accuracy                           0.98      1032\n",
      "   macro avg       0.99      0.91      0.94      1032\n",
      "weighted avg       0.98      0.98      0.98      1032\n",
      "\n",
      "\n",
      "[[897   0]\n",
      " [ 24 111]]\n",
      "\n",
      "0.9767441860465116\n"
     ]
    }
   ],
   "source": [
    "from sklearn.metrics import classification_report , confusion_matrix , accuracy_score\n",
    "pred = classifier.predict(x_test)\n",
    "print(classification_report(y_test,pred))\n",
    "print()\n",
    "print(confusion_matrix(y_test,pred))\n",
    "print()\n",
    "print(accuracy_score(y_test,pred))"
   ]
  },
  {
   "cell_type": "code",
   "execution_count": 33,
   "id": "10e4ca7b",
   "metadata": {},
   "outputs": [
    {
     "data": {
      "image/png": "[encoded data removed]",
      "text/plain": [
       "<Figure size 500x500 with 1 Axes>"
      ]
     },
     "metadata": {},
     "output_type": "display_data"
    }
   ],
   "source": [
    "conf_mat = confusion_matrix(y_test, pred)\n",
    "fig, ax = plt.subplots(figsize=(5,5))\n",
    "sns.heatmap(conf_mat, annot=True, fmt='d', cmap=plt.cm.Blues, cbar=False)\n",
    "plt.xlabel('Predicted Label')\n",
    "plt.ylabel('True Label')\n",
    "plt.show()"
   ]
  },
  {
   "cell_type": "code",
   "execution_count": 58,
   "id": "9e1600c9",
   "metadata": {},
   "outputs": [],
   "source": [
    "classifier = svm.SVC(kernel='poly').fit(x_train,y_train)"
   ]
  },
  {
   "cell_type": "code",
   "execution_count": 59,
   "id": "b5f6a783",
   "metadata": {},
   "outputs": [
    {
     "name": "stdout",
     "output_type": "stream",
     "text": [
      "              precision    recall  f1-score   support\n",
      "\n",
      "           0       0.99      1.00      0.99      3619\n",
      "           1       1.00      0.90      0.95       506\n",
      "\n",
      "    accuracy                           0.99      4125\n",
      "   macro avg       0.99      0.95      0.97      4125\n",
      "weighted avg       0.99      0.99      0.99      4125\n",
      "\n",
      "\n",
      "[[3619    0]\n",
      " [  50  456]]\n",
      "\n",
      "0.9878787878787879\n"
     ]
    }
   ],
   "source": [
    "from sklearn.metrics import classification_report , confusion_matrix , accuracy_score\n",
    "pred = classifier.predict(x_train)\n",
    "print(classification_report(y_train,pred))\n",
    "print()\n",
    "print(confusion_matrix(y_train,pred))\n",
    "print()\n",
    "print(accuracy_score(y_train,pred))"
   ]
  },
  {
   "cell_type": "code",
   "execution_count": 60,
   "id": "255cd0c6",
   "metadata": {},
   "outputs": [
    {
     "name": "stdout",
     "output_type": "stream",
     "text": [
      "              precision    recall  f1-score   support\n",
      "\n",
      "           0       0.91      1.00      0.96       897\n",
      "           1       1.00      0.38      0.55       135\n",
      "\n",
      "    accuracy                           0.92      1032\n",
      "   macro avg       0.96      0.69      0.75      1032\n",
      "weighted avg       0.93      0.92      0.90      1032\n",
      "\n",
      "\n",
      "[[897   0]\n",
      " [ 84  51]]\n",
      "\n",
      "0.9186046511627907\n"
     ]
    }
   ],
   "source": [
    "from sklearn.metrics import classification_report , confusion_matrix , accuracy_score\n",
    "pred = classifier.predict(x_test)\n",
    "print(classification_report(y_test,pred))\n",
    "print()\n",
    "print(confusion_matrix(y_test,pred))\n",
    "print()\n",
    "print(accuracy_score(y_test,pred))"
   ]
  },
  {
   "cell_type": "code",
   "execution_count": 61,
   "id": "4c36a262",
   "metadata": {},
   "outputs": [
    {
     "data": {
      "image/png": "[encoded data removed]",
      "text/plain": [
       "<Figure size 500x500 with 1 Axes>"
      ]
     },
     "metadata": {},
     "output_type": "display_data"
    }
   ],
   "source": [
    "conf_mat = confusion_matrix(y_test, pred)\n",
    "fig, ax = plt.subplots(figsize=(5,5))\n",
    "sns.heatmap(conf_mat, annot=True, fmt='d', cmap=plt.cm.Blues, cbar=False)\n",
    "plt.xlabel('Predicted Label')\n",
    "plt.ylabel('True Label')\n",
    "plt.show()"
   ]
  },
  {
   "cell_type": "code",
   "execution_count": 62,
   "id": "56502243",
   "metadata": {},
   "outputs": [],
   "source": [
    "classifier = svm.SVC(kernel='sigmoid').fit(x_train,y_train)"
   ]
  },
  {
   "cell_type": "code",
   "execution_count": 63,
   "id": "e59cb05f",
   "metadata": {},
   "outputs": [
    {
     "name": "stdout",
     "output_type": "stream",
     "text": [
      "              precision    recall  f1-score   support\n",
      "\n",
      "           0       0.99      1.00      0.99      3619\n",
      "           1       0.96      0.89      0.93       506\n",
      "\n",
      "    accuracy                           0.98      4125\n",
      "   macro avg       0.97      0.94      0.96      4125\n",
      "weighted avg       0.98      0.98      0.98      4125\n",
      "\n",
      "\n",
      "[[3601   18]\n",
      " [  54  452]]\n",
      "\n",
      "0.9825454545454545\n"
     ]
    }
   ],
   "source": [
    "from sklearn.metrics import classification_report , confusion_matrix , accuracy_score\n",
    "pred = classifier.predict(x_train)\n",
    "print(classification_report(y_train,pred))\n",
    "print()\n",
    "print(confusion_matrix(y_train,pred))\n",
    "print()\n",
    "print(accuracy_score(y_train,pred))"
   ]
  },
  {
   "cell_type": "code",
   "execution_count": 64,
   "id": "c37cb7ba",
   "metadata": {},
   "outputs": [
    {
     "name": "stdout",
     "output_type": "stream",
     "text": [
      "              precision    recall  f1-score   support\n",
      "\n",
      "           0       0.97      0.99      0.98       897\n",
      "           1       0.95      0.79      0.86       135\n",
      "\n",
      "    accuracy                           0.97      1032\n",
      "   macro avg       0.96      0.89      0.92      1032\n",
      "weighted avg       0.97      0.97      0.96      1032\n",
      "\n",
      "\n",
      "[[891   6]\n",
      " [ 29 106]]\n",
      "\n",
      "0.9660852713178295\n"
     ]
    }
   ],
   "source": [
    "from sklearn.metrics import classification_report , confusion_matrix , accuracy_score\n",
    "pred = classifier.predict(x_test)\n",
    "print(classification_report(y_test,pred))\n",
    "print()\n",
    "print(confusion_matrix(y_test,pred))\n",
    "print()\n",
    "print(accuracy_score(y_test,pred))"
   ]
  },
  {
   "cell_type": "code",
   "execution_count": 65,
   "id": "8e3361e3",
   "metadata": {},
   "outputs": [
    {
     "data": {
      "image/png": "[encoded data removed]",
      "text/plain": [
       "<Figure size 500x500 with 1 Axes>"
      ]
     },
     "metadata": {},
     "output_type": "display_data"
    }
   ],
   "source": [
    "conf_mat = confusion_matrix(y_test, pred)\n",
    "fig, ax = plt.subplots(figsize=(5,5))\n",
    "sns.heatmap(conf_mat, annot=True, fmt='d', cmap=plt.cm.Blues, cbar=False)\n",
    "plt.xlabel('Predicted Label')\n",
    "plt.ylabel('True Label')\n",
    "plt.show()"
   ]
  },
  {
   "cell_type": "code",
   "execution_count": 71,
   "id": "a41770ca",
   "metadata": {},
   "outputs": [],
   "source": [
    "classifier = svm.SVC(gamma=50).fit(x_train,y_train)"
   ]
  },
  {
   "cell_type": "code",
   "execution_count": 72,
   "id": "74024f96",
   "metadata": {},
   "outputs": [
    {
     "name": "stdout",
     "output_type": "stream",
     "text": [
      "              precision    recall  f1-score   support\n",
      "\n",
      "           0       1.00      1.00      1.00      3619\n",
      "           1       1.00      1.00      1.00       506\n",
      "\n",
      "    accuracy                           1.00      4125\n",
      "   macro avg       1.00      1.00      1.00      4125\n",
      "weighted avg       1.00      1.00      1.00      4125\n",
      "\n",
      "\n",
      "[[3619    0]\n",
      " [   0  506]]\n",
      "\n",
      "1.0\n"
     ]
    }
   ],
   "source": [
    "from sklearn.metrics import classification_report , confusion_matrix , accuracy_score\n",
    "pred = classifier.predict(x_train)\n",
    "print(classification_report(y_train,pred))\n",
    "print()\n",
    "print(confusion_matrix(y_train,pred))\n",
    "print()\n",
    "print(accuracy_score(y_train,pred))"
   ]
  },
  {
   "cell_type": "code",
   "execution_count": 73,
   "id": "1d0d0db5",
   "metadata": {},
   "outputs": [
    {
     "name": "stdout",
     "output_type": "stream",
     "text": [
      "              precision    recall  f1-score   support\n",
      "\n",
      "           0       0.87      1.00      0.93       897\n",
      "           1       1.00      0.03      0.06       135\n",
      "\n",
      "    accuracy                           0.87      1032\n",
      "   macro avg       0.94      0.51      0.49      1032\n",
      "weighted avg       0.89      0.87      0.82      1032\n",
      "\n",
      "\n",
      "[[897   0]\n",
      " [131   4]]\n",
      "\n",
      "0.873062015503876\n"
     ]
    }
   ],
   "source": [
    "from sklearn.metrics import classification_report , confusion_matrix , accuracy_score\n",
    "pred = classifier.predict(x_test)\n",
    "print(classification_report(y_test,pred))\n",
    "print()\n",
    "print(confusion_matrix(y_test,pred))\n",
    "print()\n",
    "print(accuracy_score(y_test,pred))"
   ]
  },
  {
   "cell_type": "code",
   "execution_count": 74,
   "id": "b7b0aad2",
   "metadata": {},
   "outputs": [
    {
     "data": {
      "image/png": "[encoded data removed]",
      "text/plain": [
       "<Figure size 500x500 with 1 Axes>"
      ]
     },
     "metadata": {},
     "output_type": "display_data"
    }
   ],
   "source": [
    "conf_mat = confusion_matrix(y_test, pred)\n",
    "fig, ax = plt.subplots(figsize=(5,5))\n",
    "sns.heatmap(conf_mat, annot=True, fmt='d', cmap=plt.cm.Blues, cbar=False)\n",
    "plt.xlabel('Predicted Label')\n",
    "plt.ylabel('True Label')\n",
    "plt.show()"
   ]
  },
  {
   "cell_type": "code",
   "execution_count": 38,
   "id": "5f9b86cd",
   "metadata": {},
   "outputs": [],
   "source": [
    "classifier = svm.SVC(C=50).fit(x_train,y_train)"
   ]
  },
  {
   "cell_type": "code",
   "execution_count": 39,
   "id": "e6f53bfc",
   "metadata": {},
   "outputs": [
    {
     "name": "stdout",
     "output_type": "stream",
     "text": [
      "              precision    recall  f1-score   support\n",
      "\n",
      "           0       1.00      1.00      1.00      3619\n",
      "           1       1.00      1.00      1.00       506\n",
      "\n",
      "    accuracy                           1.00      4125\n",
      "   macro avg       1.00      1.00      1.00      4125\n",
      "weighted avg       1.00      1.00      1.00      4125\n",
      "\n",
      "\n",
      "[[3619    0]\n",
      " [   0  506]]\n",
      "\n",
      "1.0\n"
     ]
    }
   ],
   "source": [
    "from sklearn.metrics import classification_report , confusion_matrix , accuracy_score\n",
    "pred = classifier.predict(x_train)\n",
    "print(classification_report(y_train,pred))\n",
    "print()\n",
    "print(confusion_matrix(y_train,pred))\n",
    "print()\n",
    "print(accuracy_score(y_train,pred))"
   ]
  },
  {
   "cell_type": "code",
   "execution_count": 40,
   "id": "eb321a2c",
   "metadata": {},
   "outputs": [
    {
     "name": "stdout",
     "output_type": "stream",
     "text": [
      "              precision    recall  f1-score   support\n",
      "\n",
      "           0       0.96      1.00      0.98       897\n",
      "           1       1.00      0.71      0.83       135\n",
      "\n",
      "    accuracy                           0.96      1032\n",
      "   macro avg       0.98      0.86      0.90      1032\n",
      "weighted avg       0.96      0.96      0.96      1032\n",
      "\n",
      "\n",
      "[[897   0]\n",
      " [ 39  96]]\n",
      "\n",
      "0.9622093023255814\n"
     ]
    }
   ],
   "source": [
    "from sklearn.metrics import classification_report , confusion_matrix , accuracy_score\n",
    "pred = classifier.predict(x_test)\n",
    "print(classification_report(y_test,pred))\n",
    "print()\n",
    "print(confusion_matrix(y_test,pred))\n",
    "print()\n",
    "print(accuracy_score(y_test,pred))"
   ]
  },
  {
   "cell_type": "code",
   "execution_count": 41,
   "id": "927dc6b9",
   "metadata": {},
   "outputs": [
    {
     "data": {
      "image/png": "[encoded data removed]",
      "text/plain": [
       "<Figure size 500x500 with 1 Axes>"
      ]
     },
     "metadata": {},
     "output_type": "display_data"
    }
   ],
   "source": [
    "conf_mat = confusion_matrix(y_test, pred)\n",
    "fig, ax = plt.subplots(figsize=(5,5))\n",
    "sns.heatmap(conf_mat, annot=True, fmt='d', cmap=plt.cm.Blues, cbar=False)\n",
    "plt.xlabel('Predicted Label')\n",
    "plt.ylabel('True Label')\n",
    "plt.show()"
   ]
  },
  {
   "cell_type": "code",
   "execution_count": 54,
   "id": "9ebcec59",
   "metadata": {},
   "outputs": [],
   "source": [
    "classifier = svm.SVC(C=50,gamma=20).fit(x_train,y_train)"
   ]
  },
  {
   "cell_type": "code",
   "execution_count": 55,
   "id": "02c9a8f8",
   "metadata": {},
   "outputs": [
    {
     "name": "stdout",
     "output_type": "stream",
     "text": [
      "              precision    recall  f1-score   support\n",
      "\n",
      "           0       1.00      1.00      1.00      3619\n",
      "           1       1.00      1.00      1.00       506\n",
      "\n",
      "    accuracy                           1.00      4125\n",
      "   macro avg       1.00      1.00      1.00      4125\n",
      "weighted avg       1.00      1.00      1.00      4125\n",
      "\n",
      "\n",
      "[[3619    0]\n",
      " [   0  506]]\n",
      "\n",
      "1.0\n"
     ]
    }
   ],
   "source": [
    "from sklearn.metrics import classification_report , confusion_matrix , accuracy_score\n",
    "pred = classifier.predict(x_train)\n",
    "print(classification_report(y_train,pred))\n",
    "print()\n",
    "print(confusion_matrix(y_train,pred))\n",
    "print()\n",
    "print(accuracy_score(y_train,pred))"
   ]
  },
  {
   "cell_type": "code",
   "execution_count": 56,
   "id": "db2b8ab8",
   "metadata": {},
   "outputs": [
    {
     "name": "stdout",
     "output_type": "stream",
     "text": [
      "              precision    recall  f1-score   support\n",
      "\n",
      "           0       0.87      1.00      0.93       897\n",
      "           1       1.00      0.03      0.06       135\n",
      "\n",
      "    accuracy                           0.87      1032\n",
      "   macro avg       0.94      0.51      0.49      1032\n",
      "weighted avg       0.89      0.87      0.82      1032\n",
      "\n",
      "\n",
      "[[897   0]\n",
      " [131   4]]\n",
      "\n",
      "0.873062015503876\n"
     ]
    }
   ],
   "source": [
    "from sklearn.metrics import classification_report , confusion_matrix , accuracy_score\n",
    "pred = classifier.predict(x_test)\n",
    "print(classification_report(y_test,pred))\n",
    "print()\n",
    "print(confusion_matrix(y_test,pred))\n",
    "print()\n",
    "print(accuracy_score(y_test,pred))"
   ]
  },
  {
   "cell_type": "code",
   "execution_count": 57,
   "id": "9f2448b8",
   "metadata": {},
   "outputs": [
    {
     "data": {
      "image/png": "[encoded data removed]",
      "text/plain": [
       "<Figure size 500x500 with 1 Axes>"
      ]
     },
     "metadata": {},
     "output_type": "display_data"
    }
   ],
   "source": [
    "conf_mat = confusion_matrix(y_test, pred)\n",
    "fig, ax = plt.subplots(figsize=(5,5))\n",
    "sns.heatmap(conf_mat, annot=True, fmt='d', cmap=plt.cm.Blues, cbar=False)\n",
    "plt.xlabel('Predicted Label')\n",
    "plt.ylabel('True Label')\n",
    "plt.show()"
   ]
  }
 ],
 "metadata": {
  "kernelspec": {
   "display_name": "Python 3 (ipykernel)",
   "language": "python",
   "name": "python3"
  },
  "language_info": {
   "codemirror_mode": {
    "name": "ipython",
    "version": 3
   },
   "file_extension": ".py",
   "mimetype": "text/x-python",
   "name": "python",
   "nbconvert_exporter": "python",
   "pygments_lexer": "ipython3",
   "version": "3.9.5"
  },
  "varInspector": {
   "cols": {
    "lenName": 16,
    "lenType": 16,
    "lenVar": 40
   },
   "kernels_config": {
    "python": {
     "delete_cmd_postfix": "",
     "delete_cmd_prefix": "del ",
     "library": "var_list.py",
     "varRefreshCmd": "print(var_dic_list())"
    },
    "r": {
     "delete_cmd_postfix": ") ",
     "delete_cmd_prefix": "rm(",
     "library": "var_list.r",
     "varRefreshCmd": "cat(var_dic_list()) "
    }
   },
   "types_to_exclude": [
    "module",
    "function",
    "builtin_function_or_method",
    "instance",
    "_Feature"
   ],
   "window_display": false
  }
 },
 "nbformat": 4,
 "nbformat_minor": 5
}
